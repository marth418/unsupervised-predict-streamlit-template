{
  "nbformat": 4,
  "nbformat_minor": 0,
  "metadata": {
    "colab": {
      "name": "compyle_poster.ipynb",
      "provenance": [],
      "collapsed_sections": [],
      "toc_visible": true,
      "include_colab_link": true
    },
    "kernelspec": {
      "name": "python3",
      "display_name": "Python 3"
    },
    "accelerator": "GPU"
  },
  "cells": [
    {
      "cell_type": "markdown",
      "metadata": {
        "id": "view-in-github",
        "colab_type": "text"
      },
      "source": [
        "<a href=\"https://colab.research.google.com/github/marth418/unsupervised-predict-streamlit-template/blob/master/compyle_poster.ipynb\" target=\"_parent\"><img src=\"https://colab.research.google.com/assets/colab-badge.svg\" alt=\"Open In Colab\"/></a>"
      ]
    },
    {
      "cell_type": "markdown",
      "metadata": {
        "id": "FJzAD0ynjsJT"
      },
      "source": [
        "# Welcome to Compyle on Colab!\n",
        "\n",
        "Thank you for visiting the SciPy 2020 Compyle poster!\n",
        "\n",
        "This colab notebook takes you through the following:\n",
        "\n",
        "* Installation on Colab\n",
        "* Some simple examples\n",
        "* The molecular dynamics example from our [full paper](http://conference.scipy.org/proceedings/scipy2020/pdfs/compyle_pr_ab.pdf)\n",
        "\n",
        "Some resources:\n",
        "\n",
        "* A brief presentation on Compyle is [here](https://docs.google.com/presentation/d/1LS9XO5pQXz8G5d27RP5oWLFxUA-Fr5OvfVUGsgg86TQ/edit?usp=sharing)\n",
        "* Here is a [short video](https://youtu.be/h2YpPPL6nEY)\n",
        "* Sources: https://github.com/pypr/compyle\n",
        "* Documentation: https://compyle.readthedocs.io\n",
        "\n",
        "\n"
      ]
    },
    {
      "cell_type": "markdown",
      "metadata": {
        "id": "bL5NnpbxvY_F"
      },
      "source": [
        "# Installation\n",
        "\n",
        "We first install the GPU related packages that Compyle requires on Colab.\n",
        "\n",
        "**Please note that to use a GPU on Google Colab, you need to go to ``Edit->Notebook Settings`` and use a hardware accelerator.  Otherwise, GPUs will not be available.**\n",
        "\n",
        "Run the below cell to find which GPU you are connected to"
      ]
    },
    {
      "cell_type": "code",
      "metadata": {
        "id": "3EtGqPCEgyVX",
        "colab": {
          "base_uri": "https://localhost:8080/",
          "height": 357
        },
        "outputId": "b3db4ab8-08f9-4b6d-de4d-f9b2c18f6bb6"
      },
      "source": [
        "! nvidia-smi"
      ],
      "execution_count": null,
      "outputs": [
        {
          "output_type": "stream",
          "text": [
            "Sun Jun 28 14:24:07 2020       \n",
            "+-----------------------------------------------------------------------------+\n",
            "| NVIDIA-SMI 450.36.06    Driver Version: 418.67       CUDA Version: 10.1     |\n",
            "|-------------------------------+----------------------+----------------------+\n",
            "| GPU  Name        Persistence-M| Bus-Id        Disp.A | Volatile Uncorr. ECC |\n",
            "| Fan  Temp  Perf  Pwr:Usage/Cap|         Memory-Usage | GPU-Util  Compute M. |\n",
            "|                               |                      |               MIG M. |\n",
            "|===============================+======================+======================|\n",
            "|   0  Tesla P100-PCIE...  Off  | 00000000:00:04.0 Off |                    0 |\n",
            "| N/A   34C    P0    27W / 250W |      0MiB / 16280MiB |      0%      Default |\n",
            "|                               |                      |                 ERR! |\n",
            "+-------------------------------+----------------------+----------------------+\n",
            "                                                                               \n",
            "+-----------------------------------------------------------------------------+\n",
            "| Processes:                                                                  |\n",
            "|  GPU   GI   CI        PID   Type   Process name                  GPU Memory |\n",
            "|        ID   ID                                                   Usage      |\n",
            "|=============================================================================|\n",
            "|  No running processes found                                                 |\n",
            "+-----------------------------------------------------------------------------+\n"
          ],
          "name": "stdout"
        }
      ]
    },
    {
      "cell_type": "markdown",
      "metadata": {
        "id": "pOQppw_U6Qj7"
      },
      "source": [
        "Install the packages we need for the GPU."
      ]
    },
    {
      "cell_type": "code",
      "metadata": {
        "id": "V0Kz34fGd1Oz"
      },
      "source": [
        "%%capture\n",
        "! pip install pyopencl==2020.1\n",
        "! pip install pycuda"
      ],
      "execution_count": null,
      "outputs": []
    },
    {
      "cell_type": "markdown",
      "metadata": {
        "id": "D08hy0klxh9Y"
      },
      "source": [
        "\n",
        "Installing Compyle from the git repository.\n"
      ]
    },
    {
      "cell_type": "code",
      "metadata": {
        "id": "VK4QF2uUeupg"
      },
      "source": [
        "%%capture\n",
        "!rm -rf data/ && mkdir data\n",
        "!cd data && git clone https://github.com/pypr/compyle.git\n",
        "!cd data/compyle && python setup.py install"
      ],
      "execution_count": null,
      "outputs": []
    },
    {
      "cell_type": "markdown",
      "metadata": {
        "id": "HIaWs11ux4F_"
      },
      "source": [
        "Thats it!  We are all set now."
      ]
    },
    {
      "cell_type": "markdown",
      "metadata": {
        "id": "j9xeKNFEx7qh"
      },
      "source": [
        "# Simple example\n"
      ]
    },
    {
      "cell_type": "markdown",
      "metadata": {
        "id": "L-RExX0nyofj"
      },
      "source": [
        "We now look at a very simple ``ax + b`` example that runs in parallel."
      ]
    },
    {
      "cell_type": "code",
      "metadata": {
        "id": "wWz7zuZOynoc"
      },
      "source": [
        "from compyle.api import annotate, Elementwise, wrap, get_config, declare\n",
        "import numpy as np\n",
        "\n",
        "@annotate\n",
        "def axpb(i, x, y, a, b):\n",
        "    y[i] = a * x[i] + b\n",
        "\n",
        "x = np.linspace(0, 1, 10000)\n",
        "y = np.zeros_like(x)"
      ],
      "execution_count": null,
      "outputs": []
    },
    {
      "cell_type": "markdown",
      "metadata": {
        "id": "TSlVPVJR3YRp"
      },
      "source": [
        "Now we set the backend to run this on and wrap the arrays for that backend."
      ]
    },
    {
      "cell_type": "code",
      "metadata": {
        "id": "e6AE8A393Y1w"
      },
      "source": [
        "get_config().use_openmp = True\n",
        "x_omp, y_omp = wrap(x, y)"
      ],
      "execution_count": null,
      "outputs": []
    },
    {
      "cell_type": "markdown",
      "metadata": {
        "id": "3oz3ZVYW3njd"
      },
      "source": [
        "We now call the axpb function as an elementwise operation in parallel, call the function and test that it produces the right output"
      ]
    },
    {
      "cell_type": "code",
      "metadata": {
        "id": "7NdFGJRN3n20"
      },
      "source": [
        "e = Elementwise(axpb)\n",
        "e(x_omp, y_omp, 2.0, 3.0)\n",
        "assert np.allclose(2.0 * x_omp.data + 3.0, y_omp.data)"
      ],
      "execution_count": null,
      "outputs": []
    },
    {
      "cell_type": "markdown",
      "metadata": {
        "id": "-9H02ud93-9y"
      },
      "source": [
        "Now let us see how to do this on a GPU.  \n",
        "\n",
        "All we need to do is set the backend and create the new elementwise operation for this backend."
      ]
    },
    {
      "cell_type": "code",
      "metadata": {
        "id": "A5sccQNr3-l7"
      },
      "source": [
        "get_config().use_cuda = True\n",
        "x_cuda, y_cuda = wrap(x, y)\n",
        "e = Elementwise(axpb)\n",
        "e(x_cuda, y_cuda, 2.0, 3.0)\n",
        "y_cuda.pull()\n",
        "assert np.allclose(2.0 * x_cuda.data + 3.0, y_cuda.data)"
      ],
      "execution_count": null,
      "outputs": []
    },
    {
      "cell_type": "markdown",
      "metadata": {
        "id": "IYEIlndE4jOD"
      },
      "source": [
        "Note the use of ``y_cuda.pull()`` to get the data from the GPU device."
      ]
    },
    {
      "cell_type": "markdown",
      "metadata": {
        "id": "rpQ8-64c2s0r"
      },
      "source": [
        "## Standard examples \n",
        "\n",
        "We now run a few standard examples that ship with compyle."
      ]
    },
    {
      "cell_type": "code",
      "metadata": {
        "id": "_a2vDyOyyBAI",
        "colab": {
          "base_uri": "https://localhost:8080/",
          "height": 34
        },
        "outputId": "f8210865-aa48-429f-c6f3-0fdfbdb0b8a8"
      },
      "source": [
        "%cd data/compyle/examples"
      ],
      "execution_count": null,
      "outputs": [
        {
          "output_type": "stream",
          "text": [
            "/content/data/compyle/examples\n"
          ],
          "name": "stdout"
        }
      ]
    },
    {
      "cell_type": "markdown",
      "metadata": {
        "id": "UokqNPW3fMUR"
      },
      "source": [
        "### Laplace equation"
      ]
    },
    {
      "cell_type": "markdown",
      "metadata": {
        "id": "Fa3HJpv1ey6X"
      },
      "source": [
        "Lets look at a simple 2D laplace solver"
      ]
    },
    {
      "cell_type": "code",
      "metadata": {
        "id": "JktDJclaj_Ap"
      },
      "source": [
        "%pycat laplace.py"
      ],
      "execution_count": null,
      "outputs": []
    },
    {
      "cell_type": "markdown",
      "metadata": {
        "id": "KwZDrYtxf99z"
      },
      "source": [
        "Lets run this example on the CPU using OpenMP"
      ]
    },
    {
      "cell_type": "code",
      "metadata": {
        "id": "Feq_p9xNe-Jx",
        "colab": {
          "base_uri": "https://localhost:8080/",
          "height": 303
        },
        "outputId": "ad945b62-38ec-4553-82da-5d9b9e0bc2bd"
      },
      "source": [
        "%matplotlib inline\n",
        "%run laplace.py --backend cython --openmp --show --nx 200 --ny 200"
      ],
      "execution_count": null,
      "outputs": [
        {
          "output_type": "stream",
          "text": [
            "Number of iterations = 2243\n",
            "Time taken = 0.90216 secs\n"
          ],
          "name": "stdout"
        },
        {
          "output_type": "display_data",
          "data": {
            "image/png": "[encoded data removed]",
            "text/plain": [
              "<Figure size 432x288 with 1 Axes>"
            ]
          },
          "metadata": {
            "tags": [],
            "needs_background": "light"
          }
        }
      ]
    },
    {
      "cell_type": "markdown",
      "metadata": {
        "id": "4WSS9820gENB"
      },
      "source": [
        "The same example can be run on a GPU using CUDA as follows"
      ]
    },
    {
      "cell_type": "code",
      "metadata": {
        "id": "uhXR26Ayfuro",
        "colab": {
          "base_uri": "https://localhost:8080/",
          "height": 303
        },
        "outputId": "c859c6d0-2654-4046-fba0-3d8dd7967a2b"
      },
      "source": [
        "%matplotlib inline\n",
        "%run laplace.py --backend cuda --show --nx 200 --ny 200"
      ],
      "execution_count": null,
      "outputs": [
        {
          "output_type": "stream",
          "text": [
            "Number of iterations = 2243\n",
            "Time taken = 0.601156 secs\n"
          ],
          "name": "stdout"
        },
        {
          "output_type": "display_data",
          "data": {
            "image/png": "[encoded data removed]",
            "text/plain": [
              "<Figure size 432x288 with 1 Axes>"
            ]
          },
          "metadata": {
            "tags": [],
            "needs_background": "light"
          }
        }
      ]
    },
    {
      "cell_type": "markdown",
      "metadata": {
        "id": "nSDvv43Ej1eB"
      },
      "source": [
        "Lets try to increase the number of grid points and see how the GPU backends perform as compared to CPU."
      ]
    },
    {
      "cell_type": "code",
      "metadata": {
        "id": "2hMHinHwjr_C",
        "colab": {
          "base_uri": "https://localhost:8080/",
          "height": 119
        },
        "outputId": "dc1eb075-9c83-4b9d-c428-558c1d2b5f46"
      },
      "source": [
        "%run laplace.py --openmp --nx 1000 --ny 1000\n",
        "%run laplace.py --backend cuda --nx 1000 --ny 1000\n",
        "%run laplace.py --backend opencl --nx 1000 --ny 1000"
      ],
      "execution_count": null,
      "outputs": [
        {
          "output_type": "stream",
          "text": [
            "Number of iterations = 3687\n",
            "Time taken = 36.9355 secs\n",
            "Number of iterations = 3688\n",
            "Time taken = 1.05824 secs\n",
            "Number of iterations = 3688\n",
            "Time taken = 1.83411 secs\n"
          ],
          "name": "stdout"
        }
      ]
    },
    {
      "cell_type": "markdown",
      "metadata": {
        "id": "BBlfk3Re69Hu"
      },
      "source": [
        "As you can see above, the CPU backend takes 35 seconds whereas the GPU takes less than a couple of seconds."
      ]
    },
    {
      "cell_type": "markdown",
      "metadata": {
        "id": "_uQCOaBL0e1p"
      },
      "source": [
        "# Molecular dynamics example\n",
        "\n",
        "This is the example that is discussed at length in our [full paper](http://procbuild.scipy.org/download/prabhuramachandran-compyle). We look at a simulation of particles interacting via a Lennard Jones potential using a non-periodic boundary condition\n"
      ]
    },
    {
      "cell_type": "code",
      "metadata": {
        "id": "yNNSJZPG5Re3",
        "colab": {
          "base_uri": "https://localhost:8080/",
          "height": 34
        },
        "outputId": "d8add0cc-be5d-4496-9058-24503c13416b"
      },
      "source": [
        "%cd molecular_dynamics/"
      ],
      "execution_count": null,
      "outputs": [
        {
          "output_type": "stream",
          "text": [
            "/content/data/compyle/examples/molecular_dynamics\n"
          ],
          "name": "stdout"
        }
      ]
    },
    {
      "cell_type": "markdown",
      "metadata": {
        "id": "ogola-1e5ZWo"
      },
      "source": [
        "Looking at the simple $O(N^2)$ version discussed in the paper:"
      ]
    },
    {
      "cell_type": "code",
      "metadata": {
        "id": "QJbleHgR5ms1"
      },
      "source": [
        "%pycat md_simple.py"
      ],
      "execution_count": null,
      "outputs": []
    },
    {
      "cell_type": "markdown",
      "metadata": {
        "id": "fsech0XB5xa_"
      },
      "source": [
        "Let us run this example on the CPU using OpenMP with 50,000 particles for 20 timesteps "
      ]
    },
    {
      "cell_type": "code",
      "metadata": {
        "id": "QngIWaZrfwc8",
        "colab": {
          "base_uri": "https://localhost:8080/",
          "height": 51
        },
        "outputId": "ef8258b0-54f0-4e3a-ef1a-e80e6b6af3b1"
      },
      "source": [
        "%run md_simple --openmp -n 50000 --tf 0.4 --dt 0.02 --suppress-warnings"
      ],
      "execution_count": null,
      "outputs": [
        {
          "output_type": "stream",
          "text": [
            "Energy at time step = 0 is -36735.79626613717\n",
            "Time taken for N = 50000 is 71.5315 secs\n"
          ],
          "name": "stdout"
        }
      ]
    },
    {
      "cell_type": "markdown",
      "metadata": {
        "id": "p8u-lBYC7Ow2"
      },
      "source": [
        "The same example can be run on the GPU using `cuda` or `opencl` backends as follows"
      ]
    },
    {
      "cell_type": "code",
      "metadata": {
        "id": "kZEdDjb_mgBi",
        "colab": {
          "base_uri": "https://localhost:8080/",
          "height": 51
        },
        "outputId": "286a767a-93b2-47b0-a30d-81ee5d543f03"
      },
      "source": [
        "%run md_simple --backend opencl -n 50000 --tf 0.4 --dt 0.02 --suppress-warnings"
      ],
      "execution_count": null,
      "outputs": [
        {
          "output_type": "stream",
          "text": [
            "Energy at time step = 0 is -36735.79269078374\n",
            "Time taken for N = 50000 is 0.419632 secs\n"
          ],
          "name": "stdout"
        }
      ]
    },
    {
      "cell_type": "code",
      "metadata": {
        "id": "aQNslrAtMLnD",
        "colab": {
          "base_uri": "https://localhost:8080/",
          "height": 51
        },
        "outputId": "a2efecec-4dc2-49d8-a203-9fe3d99b4681"
      },
      "source": [
        "%run md_simple --backend cuda -n 50000 --tf 0.4 --dt 0.02 --suppress-warnings"
      ],
      "execution_count": null,
      "outputs": [
        {
          "output_type": "stream",
          "text": [
            "Energy at time step = 0 is -36735.79269078374\n",
            "Time taken for N = 50000 is 0.820158 secs\n"
          ],
          "name": "stdout"
        }
      ]
    },
    {
      "cell_type": "markdown",
      "metadata": {
        "id": "p2lrDwf-DiFA"
      },
      "source": [
        "On an NVIDIA Tesla P100 GPU, we see the following speedup results using the simple implementation,\n",
        "\n",
        "<div>\n",
        "<img src=\"https://drive.google.com/uc?id=1vS_4qZhHhN3mdNKZGOHY_4ZZtQP75zKW\" width=\"500\"/>\n",
        "</div>"
      ]
    },
    {
      "cell_type": "markdown",
      "metadata": {
        "id": "eeU-Nhm2yx_W"
      },
      "source": [
        "Next lets look at a more efficient $O(N)$ implementation using nearest neighbor searching"
      ]
    },
    {
      "cell_type": "code",
      "metadata": {
        "id": "niPU4M57t4Ys"
      },
      "source": [
        "%pycat md_nnps.py"
      ],
      "execution_count": null,
      "outputs": []
    },
    {
      "cell_type": "markdown",
      "metadata": {
        "id": "X5fDoHV6EiHv"
      },
      "source": [
        "Lets try running a simulation using a huge number of particles on the GPU."
      ]
    },
    {
      "cell_type": "code",
      "metadata": {
        "id": "KjHnywnj00cQ",
        "colab": {
          "base_uri": "https://localhost:8080/",
          "height": 51
        },
        "outputId": "b6a9ab3a-39eb-48e9-fad8-07854bffdada"
      },
      "source": [
        "%run md_nnps --backend cuda -n 10000000 --tf 0.5 --dt 0.02 --suppress-warnings"
      ],
      "execution_count": null,
      "outputs": [
        {
          "output_type": "stream",
          "text": [
            "Energy at time step = 0 is -7272470.95786804\n",
            "Time taken for N = 10000000 is 1.42111 secs\n"
          ],
          "name": "stdout"
        }
      ]
    },
    {
      "cell_type": "code",
      "metadata": {
        "id": "ox25iTct1kt0",
        "colab": {
          "base_uri": "https://localhost:8080/",
          "height": 51
        },
        "outputId": "90d8c98e-9efc-40f7-fca1-1043ab92a0b2"
      },
      "source": [
        "%run md_nnps --backend opencl -n 10000000 --tf 0.5 --dt 0.02 --suppress-warnings"
      ],
      "execution_count": null,
      "outputs": [
        {
          "output_type": "stream",
          "text": [
            "Energy at time step = 0 is -7272470.95786804\n",
            "Time taken for N = 10000000 is 1.24138 secs\n"
          ],
          "name": "stdout"
        }
      ]
    },
    {
      "cell_type": "markdown",
      "metadata": {
        "id": "HYf8484bEtT5"
      },
      "source": [
        "Following are the speedup results for the $O(N)$ implementation of an NVIDIA Tesla P100 GPU\n",
        "\n",
        "<div>\n",
        "<img src=\"https://drive.google.com/uc?id=18odo1q42ujHC22xESssVPlDKu39ZR2bg\" width=\"500\"/>\n",
        "</div>"
      ]
    },
    {
      "cell_type": "markdown",
      "metadata": {
        "id": "MWR4WXPg858G"
      },
      "source": [
        "The [examples](https://github.com/pypr/compyle/tree/master/examples/molecular_dynamics/3D) in compyle also include a 3D implementation of the molecular dynamics problem. It also includes an implementation of periodic boundary conditions. We ran a test to compare the performance of our implementation with HooMD. This was the result on an NVIDIA Tesla P100 GPU. We saw that our implementation was about 2x faster than HooMD.\n",
        "\n",
        "<div>\n",
        "<img src=\"https://drive.google.com/uc?id=1FAQxYRNVK3ljivW-OJ3P3--X3Z69hE53\" width=\"500\"/>\n",
        "</div>\n"
      ]
    }
  ]
}